{
 "cells": [
  {
   "cell_type": "markdown",
   "id": "superior-familiar",
   "metadata": {},
   "source": [
    "# Stop words\n",
    "Take the stop words out of the text and see if it improves the bias feature text (and the other one to a certain extent."
   ]
  },
  {
   "cell_type": "code",
   "execution_count": 1,
   "id": "protective-soccer",
   "metadata": {},
   "outputs": [],
   "source": [
    "import pandas as pd\n",
    "import numpy as np\n",
    "import string\n",
    "\n",
    "from nltk.corpus import stopwords\n",
    "from nltk.tokenize import word_tokenize\n",
    "\n",
    "from hyper.bias_scorer import BiasScorer"
   ]
  },
  {
   "cell_type": "code",
   "execution_count": 2,
   "id": "included-requirement",
   "metadata": {},
   "outputs": [],
   "source": [
    "stop_words = stopwords.words(\"english\")\n",
    "stop_punct = set(stop_words) | set(string.punctuation)"
   ]
  },
  {
   "cell_type": "code",
   "execution_count": 3,
   "id": "religious-throw",
   "metadata": {},
   "outputs": [],
   "source": [
    "data = pd.read_csv(\n",
    "    \"../data/processed.csv\",\n",
    "    sep=\"\\t\",\n",
    "    dtype={\"content\": \"string\", \"label\": bool}\n",
    ")\n",
    "data[\"content\"] = data[\"content\"].str.lower()"
   ]
  },
  {
   "cell_type": "code",
   "execution_count": 4,
   "id": "documented-address",
   "metadata": {},
   "outputs": [],
   "source": [
    "def rm_stop_punt(sentence, rm_list):\n",
    "    return [word for word in word_tokenize(sentence) if not word in stop_punct]"
   ]
  },
  {
   "cell_type": "code",
   "execution_count": 5,
   "id": "meaningful-communication",
   "metadata": {},
   "outputs": [],
   "source": [
    "data[\"trimmed\"] = data[\"content\"].apply(lambda x: rm_stop_punt(x, stop_punct))"
   ]
  },
  {
   "cell_type": "code",
   "execution_count": 6,
   "id": "controlled-forum",
   "metadata": {},
   "outputs": [
    {
     "data": {
      "text/html": [
       "<div>\n",
       "<style scoped>\n",
       "    .dataframe tbody tr th:only-of-type {\n",
       "        vertical-align: middle;\n",
       "    }\n",
       "\n",
       "    .dataframe tbody tr th {\n",
       "        vertical-align: top;\n",
       "    }\n",
       "\n",
       "    .dataframe thead th {\n",
       "        text-align: right;\n",
       "    }\n",
       "</style>\n",
       "<table border=\"1\" class=\"dataframe\">\n",
       "  <thead>\n",
       "    <tr style=\"text-align: right;\">\n",
       "      <th></th>\n",
       "      <th>label</th>\n",
       "      <th>content</th>\n",
       "      <th>trimmed</th>\n",
       "    </tr>\n",
       "  </thead>\n",
       "  <tbody>\n",
       "    <tr>\n",
       "      <th>0</th>\n",
       "      <td>True</td>\n",
       "      <td>kucinich: reclaiming the money power from flic...</td>\n",
       "      <td>[kucinich, reclaiming, money, power, flickr.co...</td>\n",
       "    </tr>\n",
       "    <tr>\n",
       "      <th>1</th>\n",
       "      <td>True</td>\n",
       "      <td>trump just woke up &amp; viciously attacked puerto...</td>\n",
       "      <td>[trump, woke, viciously, attacked, puerto, ric...</td>\n",
       "    </tr>\n",
       "    <tr>\n",
       "      <th>2</th>\n",
       "      <td>True</td>\n",
       "      <td>liberals wailing about gun control, but what a...</td>\n",
       "      <td>[liberals, wailing, gun, control, abortion, ph...</td>\n",
       "    </tr>\n",
       "    <tr>\n",
       "      <th>3</th>\n",
       "      <td>True</td>\n",
       "      <td>laremy tunsil joins nfl players in kneeling du...</td>\n",
       "      <td>[laremy, tunsil, joins, nfl, players, kneeling...</td>\n",
       "    </tr>\n",
       "    <tr>\n",
       "      <th>4</th>\n",
       "      <td>False</td>\n",
       "      <td>it's 1968 all over againalmost a half-century ...</td>\n",
       "      <td>['s, 1968, againalmost, half-century, ago, 196...</td>\n",
       "    </tr>\n",
       "  </tbody>\n",
       "</table>\n",
       "</div>"
      ],
      "text/plain": [
       "   label                                            content  \\\n",
       "0   True  kucinich: reclaiming the money power from flic...   \n",
       "1   True  trump just woke up & viciously attacked puerto...   \n",
       "2   True  liberals wailing about gun control, but what a...   \n",
       "3   True  laremy tunsil joins nfl players in kneeling du...   \n",
       "4  False  it's 1968 all over againalmost a half-century ...   \n",
       "\n",
       "                                             trimmed  \n",
       "0  [kucinich, reclaiming, money, power, flickr.co...  \n",
       "1  [trump, woke, viciously, attacked, puerto, ric...  \n",
       "2  [liberals, wailing, gun, control, abortion, ph...  \n",
       "3  [laremy, tunsil, joins, nfl, players, kneeling...  \n",
       "4  ['s, 1968, againalmost, half-century, ago, 196...  "
      ]
     },
     "execution_count": 6,
     "metadata": {},
     "output_type": "execute_result"
    }
   ],
   "source": [
    "data.head()"
   ]
  }
 ],
 "metadata": {
  "kernelspec": {
   "display_name": "Python 3",
   "language": "python",
   "name": "python3"
  },
  "language_info": {
   "codemirror_mode": {
    "name": "ipython",
    "version": 3
   },
   "file_extension": ".py",
   "mimetype": "text/x-python",
   "name": "python",
   "nbconvert_exporter": "python",
   "pygments_lexer": "ipython3",
   "version": "3.8.6"
  }
 },
 "nbformat": 4,
 "nbformat_minor": 5
}
