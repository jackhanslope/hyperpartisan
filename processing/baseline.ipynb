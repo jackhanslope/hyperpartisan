{
 "cells": [
  {
   "cell_type": "code",
   "execution_count": 9,
   "metadata": {},
   "outputs": [],
   "source": [
    "import pandas as pd\n",
    "\n",
    "from sklearn.model_selection import train_test_split\n",
    "from sklearn.pipeline import make_pipeline\n",
    "from sklearn.feature_extraction.text import CountVectorizer\n",
    "from sklearn.linear_model import LogisticRegression\n",
    "\n",
    "from hyper.nlp_model import NLPModel"
   ]
  },
  {
   "cell_type": "markdown",
   "metadata": {},
   "source": [
    "Read in the data and then split into true and false so we have equal numbers of trues and falses in the train and test."
   ]
  },
  {
   "cell_type": "code",
   "execution_count": 6,
   "metadata": {},
   "outputs": [],
   "source": [
    "data = pd.read_json(\"../data/clean.json\")\n",
    "trues = data[data[\"label\"]]\n",
    "falses = data[data[\"label\"] == False]"
   ]
  },
  {
   "cell_type": "markdown",
   "metadata": {},
   "source": [
    "Split the trues and falses into test and train"
   ]
  },
  {
   "cell_type": "code",
   "execution_count": 7,
   "metadata": {},
   "outputs": [],
   "source": [
    "t_train, t_test = train_test_split(trues, test_size=0.5, random_state=13)\n",
    "f_train, f_test = train_test_split(falses, test_size=0.5, random_state=13)\n",
    "train = pd.concat([t_train, f_train])\n",
    "test = pd.concat([t_test, f_test])"
   ]
  },
  {
   "cell_type": "code",
   "execution_count": 8,
   "metadata": {},
   "outputs": [
    {
     "name": "stdout",
     "output_type": "stream",
     "text": [
      "0.7213622291021672\n"
     ]
    }
   ],
   "source": [
    "reviews_train = train[\"content\"]\n",
    "reviews_test = test[\"content\"]\n",
    "y_train = train[\"label\"]\n",
    "y_test = test[\"label\"]\n",
    "\n",
    "model = NLPModel()\n",
    "model.fit_vectorizer(reviews_train)\n",
    "\n",
    "X_train = model.transform_vectorizer(reviews_train)\n",
    "X_test = model.transform_vectorizer(reviews_test)\n",
    "model.train(X_train, y_train)\n",
    "print(model.report_accuracy(X_test, y_test))"
   ]
  },
  {
   "cell_type": "markdown",
   "metadata": {},
   "source": [
    "This is an accuracy of 0.7213622291021672 which is suspiciously high. It gets this every time."
   ]
  },
  {
   "cell_type": "code",
   "execution_count": 14,
   "metadata": {
    "scrolled": true
   },
   "outputs": [
    {
     "data": {
      "text/plain": [
       "0.7213622291021672"
      ]
     },
     "execution_count": 14,
     "metadata": {},
     "output_type": "execute_result"
    }
   ],
   "source": [
    "pipe = make_pipeline(\n",
    "    CountVectorizer(),\n",
    "    LogisticRegression(max_iter=300),\n",
    ")\n",
    "pipe.fit(reviews_train, y_train)\n",
    "pipe.score(reviews_test, y_test)"
   ]
  },
  {
   "cell_type": "markdown",
   "metadata": {},
   "source": [
    "This is the same as above, so all of the stuff in my `NLPModel` is doing is this."
   ]
  }
 ],
 "metadata": {
  "kernelspec": {
   "display_name": "Python 3",
   "language": "python",
   "name": "python3"
  },
  "language_info": {
   "codemirror_mode": {
    "name": "ipython",
    "version": 3
   },
   "file_extension": ".py",
   "mimetype": "text/x-python",
   "name": "python",
   "nbconvert_exporter": "python",
   "pygments_lexer": "ipython3",
   "version": "3.8.6"
  }
 },
 "nbformat": 4,
 "nbformat_minor": 4
}
