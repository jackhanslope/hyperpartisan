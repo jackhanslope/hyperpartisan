{
 "cells": [
  {
   "cell_type": "markdown",
   "id": "conceptual-report",
   "metadata": {},
   "source": [
    "# Bias\n",
    "Hand crafted feature based on the frequency of biased words."
   ]
  },
  {
   "cell_type": "code",
   "execution_count": 1,
   "id": "registered-infrared",
   "metadata": {},
   "outputs": [],
   "source": [
    "import pandas as pd\n",
    "import numpy as np\n",
    "import matplotlib.pyplot as plt\n",
    "import nltk\n",
    "import pickle\n",
    "\n",
    "from hyper.bias_scorer import BiasScorer\n",
    "import hyper.eval as evl\n",
    "\n",
    "from nltk.stem import PorterStemmer, WordNetLemmatizer\n",
    "from sklearn.linear_model import LogisticRegression"
   ]
  },
  {
   "cell_type": "code",
   "execution_count": 2,
   "id": "devoted-poison",
   "metadata": {},
   "outputs": [],
   "source": [
    "data = pd.read_csv(\"../data/processed.csv\", sep=\"\\t\", dtype={\"content\": \"string\", \"label\": bool})"
   ]
  },
  {
   "cell_type": "code",
   "execution_count": 3,
   "id": "intellectual-partition",
   "metadata": {},
   "outputs": [],
   "source": [
    "X = data[\"content\"]\n",
    "y = data[\"label\"].astype(int)"
   ]
  },
  {
   "cell_type": "code",
   "execution_count": 4,
   "id": "opposite-rebecca",
   "metadata": {},
   "outputs": [],
   "source": [
    "word_list = pd.read_csv(\"../data/bias/bias-lexicon.txt\", header=None, names=[\"word\"])"
   ]
  },
  {
   "cell_type": "code",
   "execution_count": 5,
   "id": "equal-manual",
   "metadata": {},
   "outputs": [],
   "source": [
    "bs = BiasScorer(word_list[\"word\"])"
   ]
  },
  {
   "cell_type": "code",
   "execution_count": 6,
   "id": "hispanic-chick",
   "metadata": {},
   "outputs": [],
   "source": [
    "scores = [bs.score(sentence) for sentence in X]"
   ]
  },
  {
   "cell_type": "code",
   "execution_count": 7,
   "id": "chief-power",
   "metadata": {},
   "outputs": [],
   "source": [
    "# add the scores to the dataset\n",
    "data[\"lemma_score\"] = [x for (x, _) in scores]\n",
    "data[\"stem_score\"] = [y for (_, y) in scores]"
   ]
  },
  {
   "cell_type": "code",
   "execution_count": 8,
   "id": "passive-explorer",
   "metadata": {},
   "outputs": [],
   "source": [
    "model = LogisticRegression(max_iter=300, class_weight=\"balanced\")"
   ]
  },
  {
   "cell_type": "code",
   "execution_count": 9,
   "id": "rocky-paragraph",
   "metadata": {},
   "outputs": [
    {
     "data": {
      "text/plain": [
       "{'acc': [0.5689922480620155, 0.010515240283915163],\n",
       " 'prec': [0.43706030915121563, 0.009995210608984523],\n",
       " 'rec': [0.5803191489361702, 0.0631236800969688],\n",
       " 'f1': [0.49694192947740995, 0.023874313217302278]}"
      ]
     },
     "execution_count": 9,
     "metadata": {},
     "output_type": "execute_result"
    }
   ],
   "source": [
    "evl.report_algorithm(data[[\"lemma_score\"]], y, model)"
   ]
  },
  {
   "cell_type": "code",
   "execution_count": 10,
   "id": "soviet-joint",
   "metadata": {},
   "outputs": [
    {
     "data": {
      "text/plain": [
       "{'acc': [0.5348837209302326, 0.03139295617258384],\n",
       " 'prec': [0.3995799582104932, 0.02605229525805938],\n",
       " 'rec': [0.513209219858156, 0.07300810462461155],\n",
       " 'f1': [0.44712685387054385, 0.036480638577498684]}"
      ]
     },
     "execution_count": 10,
     "metadata": {},
     "output_type": "execute_result"
    }
   ],
   "source": [
    "evl.report_algorithm(data[[\"stem_score\"]], y, model)"
   ]
  },
  {
   "cell_type": "code",
   "execution_count": 11,
   "id": "productive-audio",
   "metadata": {},
   "outputs": [
    {
     "data": {
      "text/plain": [
       "{'acc': [0.5565891472868217, 0.017947033957814298],\n",
       " 'prec': [0.4226155564865242, 0.019612927732921018],\n",
       " 'rec': [0.5549645390070921, 0.07893755614237048],\n",
       " 'f1': [0.4777414465677158, 0.03912489859739928]}"
      ]
     },
     "execution_count": 11,
     "metadata": {},
     "output_type": "execute_result"
    }
   ],
   "source": [
    "evl.report_algorithm(data[[\"stem_score\", \"lemma_score\"]], y, model)"
   ]
  },
  {
   "cell_type": "code",
   "execution_count": 12,
   "id": "preceding-scholarship",
   "metadata": {},
   "outputs": [
    {
     "data": {
      "text/plain": [
       "<matplotlib.collections.PathCollection at 0x7efda9377700>"
      ]
     },
     "execution_count": 12,
     "metadata": {},
     "output_type": "execute_result"
    },
    {
     "data": {
      "image/png": "[encoded data removed]",
      "text/plain": [
       "<Figure size 432x288 with 1 Axes>"
      ]
     },
     "metadata": {
      "needs_background": "light"
     },
     "output_type": "display_data"
    }
   ],
   "source": [
    "plt.scatter(data[\"stem_score\"], data[\"label\"])"
   ]
  },
  {
   "cell_type": "code",
   "execution_count": 13,
   "id": "functioning-institute",
   "metadata": {},
   "outputs": [
    {
     "data": {
      "text/plain": [
       "<matplotlib.collections.PathCollection at 0x7efda924cf70>"
      ]
     },
     "execution_count": 13,
     "metadata": {},
     "output_type": "execute_result"
    },
    {
     "data": {
      "image/png": "[encoded data removed]",
      "text/plain": [
       "<Figure size 432x288 with 1 Axes>"
      ]
     },
     "metadata": {
      "needs_background": "light"
     },
     "output_type": "display_data"
    }
   ],
   "source": [
    "plt.scatter(data[\"lemma_score\"], data[\"label\"])"
   ]
  },
  {
   "cell_type": "markdown",
   "id": "several-humidity",
   "metadata": {},
   "source": [
    "## Combining with semantic features"
   ]
  },
  {
   "cell_type": "code",
   "execution_count": 14,
   "id": "metallic-oregon",
   "metadata": {},
   "outputs": [],
   "source": [
    "with open(\"../data/transformed/spacy_flair.pickle\", \"rb\") as file:\n",
    "    X_transformed = pickle.load(file)"
   ]
  },
  {
   "cell_type": "code",
   "execution_count": 15,
   "id": "steady-ordinance",
   "metadata": {},
   "outputs": [],
   "source": [
    "big_data = pd.concat([data, pd.DataFrame(X_transformed)], axis=1)"
   ]
  },
  {
   "cell_type": "code",
   "execution_count": 16,
   "id": "norman-correspondence",
   "metadata": {},
   "outputs": [],
   "source": [
    "big_X = big_data.drop([\"label\", \"content\"], axis=1)"
   ]
  },
  {
   "cell_type": "code",
   "execution_count": 17,
   "id": "tested-lindsay",
   "metadata": {},
   "outputs": [
    {
     "data": {
      "text/plain": [
       "{'acc': [0.8031007751937983, 0.03753090988189211],\n",
       " 'prec': [0.7204008398488527, 0.054281538261511136],\n",
       " 'rec': [0.7693262411347519, 0.059111066035563674],\n",
       " 'f1': [0.7426885640272767, 0.04677458063181635]}"
      ]
     },
     "execution_count": 17,
     "metadata": {},
     "output_type": "execute_result"
    }
   ],
   "source": [
    "evl.report_algorithm(big_X, y, model)"
   ]
  },
  {
   "cell_type": "code",
   "execution_count": 18,
   "id": "racial-carnival",
   "metadata": {},
   "outputs": [
    {
     "data": {
      "text/plain": [
       "{'acc': [0.8031007751937983, 0.03753090988189211],\n",
       " 'prec': [0.7204008398488527, 0.054281538261511136],\n",
       " 'rec': [0.7693262411347519, 0.059111066035563674],\n",
       " 'f1': [0.7426885640272767, 0.04677458063181635]}"
      ]
     },
     "execution_count": 18,
     "metadata": {},
     "output_type": "execute_result"
    }
   ],
   "source": [
    "evl.report_algorithm(X_transformed, y, model)"
   ]
  },
  {
   "cell_type": "markdown",
   "id": "copyrighted-equality",
   "metadata": {},
   "source": [
    "So the new values have next to no impact.\n",
    "\n",
    "My concern here is that I'm trying to combine 1000 dimensional vector embeddings with scalars. The 1000 dimension embeddings \"overpower\" the scalars, maybe this isn't an issue though, if the scalars were actually having an input they would affect it.\n",
    "\n",
    "Try and experiment by putting y into instead of the scalars. "
   ]
  },
  {
   "cell_type": "code",
   "execution_count": 19,
   "id": "married-projector",
   "metadata": {},
   "outputs": [],
   "source": [
    "# Create a fake dataset, where the true labels are included \n",
    "# along with the 1000 dimensional embeddings\n",
    "X_fake = pd.concat([pd.Series(y), pd.DataFrame(X_transformed)], axis=1)"
   ]
  },
  {
   "cell_type": "code",
   "execution_count": 20,
   "id": "controlled-acceptance",
   "metadata": {},
   "outputs": [
    {
     "data": {
      "text/plain": [
       "{'acc': [1.0, 0.0], 'prec': [1.0, 0.0], 'rec': [1.0, 0.0], 'f1': [1.0, 0.0]}"
      ]
     },
     "execution_count": 20,
     "metadata": {},
     "output_type": "execute_result"
    }
   ],
   "source": [
    "evl.report_algorithm(X_fake, y, model)"
   ]
  },
  {
   "cell_type": "markdown",
   "id": "interracial-neighborhood",
   "metadata": {},
   "source": [
    "So, if the true labels are included, the algorithm knows to ignore all of the other features. This makes me think that I can include my bias score and stuff concatted with the vectors."
   ]
  }
 ],
 "metadata": {
  "kernelspec": {
   "display_name": "Python 3",
   "language": "python",
   "name": "python3"
  },
  "language_info": {
   "codemirror_mode": {
    "name": "ipython",
    "version": 3
   },
   "file_extension": ".py",
   "mimetype": "text/x-python",
   "name": "python",
   "nbconvert_exporter": "python",
   "pygments_lexer": "ipython3",
   "version": "3.8.6"
  }
 },
 "nbformat": 4,
 "nbformat_minor": 5
}
