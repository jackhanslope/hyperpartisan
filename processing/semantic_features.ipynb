{
 "cells": [
  {
   "cell_type": "markdown",
   "id": "preliminary-license",
   "metadata": {},
   "source": [
    "# Semantic Features\n",
    "I'm going to try adding semantic features: \n",
    "- vector representations of words\n",
    "- vector representations of sentences"
   ]
  },
  {
   "cell_type": "markdown",
   "id": "suited-batman",
   "metadata": {},
   "source": [
    "First thing to try is glove embeddings for words. We'll compare to the baseline"
   ]
  },
  {
   "cell_type": "code",
   "execution_count": 1,
   "id": "owned-burden",
   "metadata": {},
   "outputs": [],
   "source": [
    "import pandas as pd\n",
    "\n",
    "from sklearn.pipeline import make_pipeline\n",
    "from sklearn.feature_extraction.text import CountVectorizer\n",
    "from sklearn.linear_model import LogisticRegression\n",
    "\n",
    "import hyper.eval as evl\n",
    "\n",
    "import importlib\n",
    "importlib.reload(evl);"
   ]
  },
  {
   "cell_type": "markdown",
   "id": "statewide-domain",
   "metadata": {},
   "source": [
    "Read in the data"
   ]
  },
  {
   "cell_type": "code",
   "execution_count": 2,
   "id": "legendary-aviation",
   "metadata": {},
   "outputs": [],
   "source": [
    "data = pd.read_csv(\"../data/processed.csv\", sep=\"\\t\", dtype={\"content\": \"string\", \"label\": bool})\n",
    "X = data[\"content\"]\n",
    "y = data[\"label\"]"
   ]
  },
  {
   "cell_type": "markdown",
   "id": "atlantic-aggregate",
   "metadata": {},
   "source": [
    "## Baseline"
   ]
  },
  {
   "cell_type": "code",
   "execution_count": 3,
   "id": "indirect-venice",
   "metadata": {},
   "outputs": [
    {
     "name": "stderr",
     "output_type": "stream",
     "text": [
      "[Parallel(n_jobs=-1)]: Using backend LokyBackend with 8 concurrent workers.\n",
      "[Parallel(n_jobs=-1)]: Done   2 out of   5 | elapsed:    2.5s remaining:    3.8s\n",
      "[Parallel(n_jobs=-1)]: Done   5 out of   5 | elapsed:    2.9s finished\n"
     ]
    }
   ],
   "source": [
    "base_pipe = make_pipeline(\n",
    "    CountVectorizer(), \n",
    "    LogisticRegression(max_iter=300)\n",
    ")\n",
    "res = evl.evaluate_algorithm(X, y, base_pipe)"
   ]
  },
  {
   "cell_type": "code",
   "execution_count": 4,
   "id": "partial-belarus",
   "metadata": {},
   "outputs": [
    {
     "data": {
      "text/plain": [
       "{'fit_time': array([1.16859889, 1.73637605, 1.68676209, 1.54384494, 1.57680845]),\n",
       " 'score_time': array([0.11799264, 0.04099298, 0.04725146, 0.07476759, 0.04481411]),\n",
       " 'test_accuracy': array([0.72093023, 0.70542636, 0.70542636, 0.80620155, 0.72093023]),\n",
       " 'test_precision': array([0.63043478, 0.63888889, 0.63888889, 0.78947368, 0.66666667]),\n",
       " 'test_recall': array([0.60416667, 0.47916667, 0.47916667, 0.63829787, 0.46808511]),\n",
       " 'test_f1': array([0.61702128, 0.54761905, 0.54761905, 0.70588235, 0.55      ])}"
      ]
     },
     "execution_count": 4,
     "metadata": {},
     "output_type": "execute_result"
    }
   ],
   "source": [
    "res"
   ]
  },
  {
   "cell_type": "markdown",
   "id": "israeli-excellence",
   "metadata": {},
   "source": [
    "These scores match what is in the baseline notebook. This means we have reproducibility, which is good."
   ]
  },
  {
   "cell_type": "markdown",
   "id": "mineral-maine",
   "metadata": {},
   "source": [
    "## Glove embeddings\n",
    "with zeugma"
   ]
  },
  {
   "cell_type": "code",
   "execution_count": 5,
   "id": "excellent-gospel",
   "metadata": {},
   "outputs": [],
   "source": [
    "from zeugma.embeddings import EmbeddingTransformer\n",
    "glove = EmbeddingTransformer(\"glove\")"
   ]
  },
  {
   "cell_type": "code",
   "execution_count": 6,
   "id": "small-romania",
   "metadata": {},
   "outputs": [],
   "source": [
    "pipeline = make_pipeline(\n",
    "    glove,\n",
    "    LogisticRegression(max_iter=300)\n",
    ")"
   ]
  },
  {
   "cell_type": "code",
   "execution_count": 7,
   "id": "endangered-platform",
   "metadata": {},
   "outputs": [
    {
     "name": "stderr",
     "output_type": "stream",
     "text": [
      "[Parallel(n_jobs=-1)]: Using backend LokyBackend with 8 concurrent workers.\n",
      "[Parallel(n_jobs=-1)]: Done   2 out of   5 | elapsed:  1.1min remaining:  1.6min\n",
      "[Parallel(n_jobs=-1)]: Done   5 out of   5 | elapsed:  1.2min finished\n"
     ]
    }
   ],
   "source": [
    "res = evl.evaluate_algorithm(X, y, pipeline)"
   ]
  },
  {
   "cell_type": "code",
   "execution_count": 8,
   "id": "august-transparency",
   "metadata": {},
   "outputs": [
    {
     "data": {
      "text/plain": [
       "{'fit_time': array([1.56632805, 1.79148555, 1.66049409, 1.70820832, 1.51508212]),\n",
       " 'score_time': array([0.51482701, 0.54885721, 0.49661326, 0.3706882 , 0.28770113]),\n",
       " 'test_accuracy': array([0.62015504, 0.68992248, 0.65116279, 0.7751938 , 0.74418605]),\n",
       " 'test_precision': array([0.48275862, 0.65384615, 0.56521739, 0.82142857, 0.69444444]),\n",
       " 'test_recall': array([0.29166667, 0.35416667, 0.27083333, 0.4893617 , 0.53191489]),\n",
       " 'test_f1': array([0.36363636, 0.45945946, 0.36619718, 0.61333333, 0.60240964])}"
      ]
     },
     "execution_count": 8,
     "metadata": {},
     "output_type": "execute_result"
    }
   ],
   "source": [
    "res"
   ]
  },
  {
   "cell_type": "code",
   "execution_count": 9,
   "id": "future-blame",
   "metadata": {},
   "outputs": [
    {
     "data": {
      "text/plain": [
       "0.696124031007752"
      ]
     },
     "execution_count": 9,
     "metadata": {},
     "output_type": "execute_result"
    }
   ],
   "source": [
    "res[\"test_accuracy\"].mean()"
   ]
  },
  {
   "cell_type": "markdown",
   "id": "retired-cancer",
   "metadata": {},
   "source": [
    "So this is not as good as the baseline"
   ]
  }
 ],
 "metadata": {
  "kernelspec": {
   "display_name": "Python 3",
   "language": "python",
   "name": "python3"
  },
  "language_info": {
   "codemirror_mode": {
    "name": "ipython",
    "version": 3
   },
   "file_extension": ".py",
   "mimetype": "text/x-python",
   "name": "python",
   "nbconvert_exporter": "python",
   "pygments_lexer": "ipython3",
   "version": "3.8.6"
  }
 },
 "nbformat": 4,
 "nbformat_minor": 5
}
