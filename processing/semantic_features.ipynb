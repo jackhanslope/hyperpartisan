{
 "cells": [
  {
   "cell_type": "markdown",
   "id": "preliminary-license",
   "metadata": {},
   "source": [
    "# Semantic Features\n",
    "I'm going to try adding semantic features: \n",
    "- vector representations of words\n",
    "- vector representations of sentences"
   ]
  },
  {
   "cell_type": "markdown",
   "id": "suited-batman",
   "metadata": {},
   "source": [
    "First thing to try is glove embeddings for words. We'll compare to the baseline"
   ]
  },
  {
   "cell_type": "code",
   "execution_count": 1,
   "id": "owned-burden",
   "metadata": {},
   "outputs": [],
   "source": [
    "import pandas as pd\n",
    "import numpy as np\n",
    "\n",
    "from sklearn.pipeline import make_pipeline\n",
    "from sklearn.feature_extraction.text import CountVectorizer\n",
    "from sklearn.linear_model import LogisticRegression\n",
    "\n",
    "import hyper.eval as evl"
   ]
  },
  {
   "cell_type": "markdown",
   "id": "statewide-domain",
   "metadata": {},
   "source": [
    "Read in the data"
   ]
  },
  {
   "cell_type": "code",
   "execution_count": 2,
   "id": "legendary-aviation",
   "metadata": {},
   "outputs": [],
   "source": [
    "data = pd.read_csv(\"../data/processed.csv\", sep=\"\\t\", dtype={\"content\": \"string\", \"label\": bool})\n",
    "X = data[\"content\"]\n",
    "y = data[\"label\"]"
   ]
  },
  {
   "cell_type": "markdown",
   "id": "atlantic-aggregate",
   "metadata": {},
   "source": [
    "## Baseline"
   ]
  },
  {
   "cell_type": "code",
   "execution_count": 13,
   "id": "indirect-venice",
   "metadata": {},
   "outputs": [
    {
     "name": "stderr",
     "output_type": "stream",
     "text": [
      "[Parallel(n_jobs=-1)]: Using backend LokyBackend with 8 concurrent workers.\n",
      "[Parallel(n_jobs=-1)]: Done   2 out of   5 | elapsed:    1.6s remaining:    2.4s\n",
      "[Parallel(n_jobs=-1)]: Done   5 out of   5 | elapsed:    2.1s finished\n"
     ]
    }
   ],
   "source": [
    "base_pipe = make_pipeline(\n",
    "    CountVectorizer(), \n",
    "    LogisticRegression(max_iter=300)\n",
    ")\n",
    "res = evl.evaluate_algorithm(X, y, base_pipe)"
   ]
  },
  {
   "cell_type": "code",
   "execution_count": 14,
   "id": "partial-belarus",
   "metadata": {},
   "outputs": [
    {
     "data": {
      "text/plain": [
       "{'fit_time': array([1.22697282, 1.41055989, 1.29889274, 1.45595884, 1.34704542]),\n",
       " 'score_time': array([0.07224655, 0.04132438, 0.05688477, 0.07994914, 0.0738039 ]),\n",
       " 'test_accuracy': array([0.72093023, 0.70542636, 0.70542636, 0.80620155, 0.72093023]),\n",
       " 'test_precision': array([0.63043478, 0.63888889, 0.63888889, 0.78947368, 0.66666667]),\n",
       " 'test_recall': array([0.60416667, 0.47916667, 0.47916667, 0.63829787, 0.46808511]),\n",
       " 'test_f1': array([0.61702128, 0.54761905, 0.54761905, 0.70588235, 0.55      ])}"
      ]
     },
     "execution_count": 14,
     "metadata": {},
     "output_type": "execute_result"
    }
   ],
   "source": [
    "res"
   ]
  },
  {
   "cell_type": "code",
   "execution_count": 16,
   "id": "scenic-killer",
   "metadata": {},
   "outputs": [
    {
     "data": {
      "text/plain": [
       "0.7317829457364341"
      ]
     },
     "execution_count": 16,
     "metadata": {},
     "output_type": "execute_result"
    }
   ],
   "source": [
    "res[\"test_accuracy\"].mean()"
   ]
  },
  {
   "cell_type": "markdown",
   "id": "israeli-excellence",
   "metadata": {},
   "source": [
    "These scores match what is in the baseline notebook. This means we have reproducibility, which is good."
   ]
  },
  {
   "cell_type": "markdown",
   "id": "mineral-maine",
   "metadata": {},
   "source": [
    "## Glove embeddings\n",
    "with zeugma"
   ]
  },
  {
   "cell_type": "code",
   "execution_count": 27,
   "id": "excellent-gospel",
   "metadata": {},
   "outputs": [],
   "source": [
    "from zeugma.embeddings import EmbeddingTransformer\n",
    "glove = EmbeddingTransformer(\"glove\")"
   ]
  },
  {
   "cell_type": "code",
   "execution_count": 31,
   "id": "small-romania",
   "metadata": {},
   "outputs": [],
   "source": [
    "glove_pipeline = make_pipeline(\n",
    "    glove,\n",
    "    LogisticRegression(max_iter=300)\n",
    ")"
   ]
  },
  {
   "cell_type": "code",
   "execution_count": 33,
   "id": "endangered-platform",
   "metadata": {},
   "outputs": [
    {
     "name": "stderr",
     "output_type": "stream",
     "text": [
      "[Parallel(n_jobs=-1)]: Using backend LokyBackend with 8 concurrent workers.\n",
      "[Parallel(n_jobs=-1)]: Done   2 out of   5 | elapsed:  1.1min remaining:  1.6min\n",
      "[Parallel(n_jobs=-1)]: Done   5 out of   5 | elapsed:  1.2min finished\n"
     ]
    }
   ],
   "source": [
    "res = evl.evaluate_algorithm(X, y, glove_pipeline)"
   ]
  },
  {
   "cell_type": "code",
   "execution_count": 34,
   "id": "august-transparency",
   "metadata": {},
   "outputs": [
    {
     "data": {
      "text/plain": [
       "{'fit_time': array([1.91023254, 1.98548007, 1.78395462, 1.71965981, 1.65102267]),\n",
       " 'score_time': array([0.44476247, 0.4780736 , 0.50054312, 0.32994771, 0.29263854]),\n",
       " 'test_accuracy': array([0.62015504, 0.68992248, 0.65116279, 0.7751938 , 0.74418605]),\n",
       " 'test_precision': array([0.48275862, 0.65384615, 0.56521739, 0.82142857, 0.69444444]),\n",
       " 'test_recall': array([0.29166667, 0.35416667, 0.27083333, 0.4893617 , 0.53191489]),\n",
       " 'test_f1': array([0.36363636, 0.45945946, 0.36619718, 0.61333333, 0.60240964])}"
      ]
     },
     "execution_count": 34,
     "metadata": {},
     "output_type": "execute_result"
    }
   ],
   "source": [
    "res"
   ]
  },
  {
   "cell_type": "code",
   "execution_count": 9,
   "id": "future-blame",
   "metadata": {},
   "outputs": [
    {
     "data": {
      "text/plain": [
       "0.696124031007752"
      ]
     },
     "execution_count": 9,
     "metadata": {},
     "output_type": "execute_result"
    }
   ],
   "source": [
    "res[\"test_accuracy\"].mean()"
   ]
  },
  {
   "cell_type": "markdown",
   "id": "retired-cancer",
   "metadata": {},
   "source": [
    "So this is not as good as the baseline"
   ]
  },
  {
   "cell_type": "markdown",
   "id": "amateur-hardwood",
   "metadata": {},
   "source": [
    "## Building a Transformer using spacy embeddings"
   ]
  },
  {
   "cell_type": "code",
   "execution_count": 10,
   "id": "ethical-feedback",
   "metadata": {},
   "outputs": [],
   "source": [
    "import spacy\n",
    "from hyper.spacy_transformer import SpacyTransformer"
   ]
  },
  {
   "cell_type": "code",
   "execution_count": 4,
   "id": "urban-timing",
   "metadata": {},
   "outputs": [],
   "source": [
    "spacy_model = spacy.load(\"en_core_web_md\")"
   ]
  },
  {
   "cell_type": "code",
   "execution_count": 5,
   "id": "animated-italy",
   "metadata": {},
   "outputs": [],
   "source": [
    "transformer = SpacyTransformer(spacy_model, \"en_core_web_md\")"
   ]
  },
  {
   "cell_type": "code",
   "execution_count": 8,
   "id": "dying-benefit",
   "metadata": {},
   "outputs": [],
   "source": [
    "space = make_pipeline(\n",
    "    transformer,\n",
    "    LogisticRegression(max_iter=300),\n",
    ")"
   ]
  },
  {
   "cell_type": "code",
   "execution_count": 9,
   "id": "compact-amsterdam",
   "metadata": {},
   "outputs": [
    {
     "name": "stderr",
     "output_type": "stream",
     "text": [
      "[Parallel(n_jobs=-1)]: Using backend LokyBackend with 8 concurrent workers.\n",
      "[Parallel(n_jobs=-1)]: Done   2 out of   5 | elapsed:  2.1min remaining:  3.1min\n",
      "[Parallel(n_jobs=-1)]: Done   5 out of   5 | elapsed:  2.4min finished\n"
     ]
    }
   ],
   "source": [
    "results = evl.evaluate_algorithm(X, y, space)"
   ]
  },
  {
   "cell_type": "code",
   "execution_count": 11,
   "id": "thrown-bunch",
   "metadata": {},
   "outputs": [
    {
     "data": {
      "text/plain": [
       "{'fit_time': array([61.96490002, 64.77607632, 67.31588554, 75.45301342, 74.95549393]),\n",
       " 'score_time': array([15.12033987, 14.11581182, 13.83320427,  8.49561477,  7.1852808 ]),\n",
       " 'test_accuracy': array([0.74418605, 0.69767442, 0.72093023, 0.82170543, 0.7751938 ]),\n",
       " 'test_precision': array([0.66666667, 0.64516129, 0.65      , 0.81578947, 0.78125   ]),\n",
       " 'test_recall': array([0.625     , 0.41666667, 0.54166667, 0.65957447, 0.53191489]),\n",
       " 'test_f1': array([0.64516129, 0.50632911, 0.59090909, 0.72941176, 0.63291139])}"
      ]
     },
     "execution_count": 11,
     "metadata": {},
     "output_type": "execute_result"
    }
   ],
   "source": [
    "results"
   ]
  },
  {
   "cell_type": "code",
   "execution_count": 12,
   "id": "noted-month",
   "metadata": {},
   "outputs": [
    {
     "data": {
      "text/plain": [
       "0.751937984496124"
      ]
     },
     "execution_count": 12,
     "metadata": {},
     "output_type": "execute_result"
    }
   ],
   "source": [
    "results[\"test_accuracy\"].mean()"
   ]
  },
  {
   "cell_type": "markdown",
   "id": "sustained-louis",
   "metadata": {},
   "source": [
    "A bit better than the baseline and much better than the glove embeddings."
   ]
  }
 ],
 "metadata": {
  "kernelspec": {
   "display_name": "Python 3",
   "language": "python",
   "name": "python3"
  },
  "language_info": {
   "codemirror_mode": {
    "name": "ipython",
    "version": 3
   },
   "file_extension": ".py",
   "mimetype": "text/x-python",
   "name": "python",
   "nbconvert_exporter": "python",
   "pygments_lexer": "ipython3",
   "version": "3.8.6"
  }
 },
 "nbformat": 4,
 "nbformat_minor": 5
}
