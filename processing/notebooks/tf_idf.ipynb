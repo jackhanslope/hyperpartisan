{
 "cells": [
  {
   "cell_type": "markdown",
   "id": "wrong-greene",
   "metadata": {},
   "source": [
    "# tf-idf"
   ]
  },
  {
   "cell_type": "code",
   "execution_count": 1,
   "id": "constant-cooperative",
   "metadata": {},
   "outputs": [
    {
     "name": "stdout",
     "output_type": "stream",
     "text": [
      "/home/jack/docos/uni/dialogue/assessment/hyperpartisan/processing\n"
     ]
    }
   ],
   "source": [
    "import os\n",
    "x = os.environ[\"VIRTUAL_ENV\"] + \"/..\"\n",
    "%cd {x}\n",
    "del x"
   ]
  },
  {
   "cell_type": "code",
   "execution_count": 2,
   "id": "laden-intersection",
   "metadata": {},
   "outputs": [],
   "source": [
    "import pandas as pd\n",
    "import numpy as np\n",
    "import pickle\n",
    "\n",
    "from sklearn.pipeline import make_pipeline, FeatureUnion\n",
    "from sklearn.linear_model import LogisticRegression\n",
    "from sklearn.feature_extraction.text import TfidfVectorizer\n",
    "\n",
    "import hyper.eval as evl\n",
    "from hyper.transformers import StaticTransformer"
   ]
  },
  {
   "cell_type": "code",
   "execution_count": 3,
   "id": "driven-malta",
   "metadata": {},
   "outputs": [],
   "source": [
    "# FIX: I'm lowering here, but the saved X_transformed data hasn't been lowered"
   ]
  },
  {
   "cell_type": "code",
   "execution_count": 4,
   "id": "gorgeous-filing",
   "metadata": {},
   "outputs": [],
   "source": [
    "data = pd.read_csv(\n",
    "    \"../data/processed.csv\",\n",
    "    sep=\"\\t\",\n",
    "    dtype={\"content\": \"string\", \"label\": bool}\n",
    ")\n",
    "data[\"content\"] = data[\"content\"].str.lower()\n",
    "X = data[\"content\"]\n",
    "y = data[\"label\"]"
   ]
  },
  {
   "cell_type": "code",
   "execution_count": 5,
   "id": "accessible-immunology",
   "metadata": {},
   "outputs": [],
   "source": [
    "vectorizer = TfidfVectorizer()"
   ]
  },
  {
   "cell_type": "code",
   "execution_count": 6,
   "id": "rubber-interface",
   "metadata": {},
   "outputs": [],
   "source": [
    "pipeline = make_pipeline(\n",
    "    vectorizer, \n",
    "    LogisticRegression(max_iter=300)\n",
    ")"
   ]
  },
  {
   "cell_type": "code",
   "execution_count": 7,
   "id": "regional-pavilion",
   "metadata": {},
   "outputs": [
    {
     "data": {
      "text/plain": [
       "{'acc': [0.7643410852713178, 0.031239444464511462],\n",
       " 'prec': [0.7826517273576098, 0.04778625921401738],\n",
       " 'rec': [0.5, 0.07744949969994928],\n",
       " 'f1': [0.6074292005846245, 0.06682565873424605]}"
      ]
     },
     "execution_count": 7,
     "metadata": {},
     "output_type": "execute_result"
    }
   ],
   "source": [
    "evl.report_algorithm(X, y, pipeline)"
   ]
  },
  {
   "cell_type": "markdown",
   "id": "sensitive-reservoir",
   "metadata": {},
   "source": [
    "So by itself, it's not too bad"
   ]
  },
  {
   "cell_type": "markdown",
   "id": "upset-buddy",
   "metadata": {},
   "source": [
    "Let's try it with the semantic features from before."
   ]
  },
  {
   "cell_type": "code",
   "execution_count": 8,
   "id": "radio-miracle",
   "metadata": {},
   "outputs": [],
   "source": [
    "with open(\"../data/transformed/spacy_flair.pickle\", \"rb\") as file:\n",
    "    X_transformed = pickle.load(file)"
   ]
  },
  {
   "cell_type": "code",
   "execution_count": 9,
   "id": "opponent-validation",
   "metadata": {},
   "outputs": [],
   "source": [
    "static_transformer = StaticTransformer(X_transformed)"
   ]
  },
  {
   "cell_type": "code",
   "execution_count": 10,
   "id": "illegal-version",
   "metadata": {},
   "outputs": [],
   "source": [
    "union = FeatureUnion([\n",
    "    (\"tfidf\", TfidfVectorizer()),\n",
    "    (\"static\", static_transformer),\n",
    "])"
   ]
  },
  {
   "cell_type": "code",
   "execution_count": 11,
   "id": "perceived-fancy",
   "metadata": {},
   "outputs": [],
   "source": [
    "pipeline = make_pipeline(\n",
    "    union,\n",
    "    LogisticRegression(max_iter=300, random_state=13, class_weight=\"balanced\")\n",
    ")"
   ]
  },
  {
   "cell_type": "code",
   "execution_count": 12,
   "id": "hourly-sending",
   "metadata": {},
   "outputs": [
    {
     "data": {
      "text/plain": [
       "{'acc': [0.8093023255813951, 0.03237304343848232],\n",
       " 'prec': [0.7277627337201805, 0.04604795489643126],\n",
       " 'rec': [0.7776595744680851, 0.06301289725174804],\n",
       " 'f1': [0.7502900153262495, 0.04301680686434799]}"
      ]
     },
     "execution_count": 12,
     "metadata": {},
     "output_type": "execute_result"
    }
   ],
   "source": [
    "evl.report_algorithm(X, y, pipeline)"
   ]
  }
 ],
 "metadata": {
  "kernelspec": {
   "display_name": "Python 3",
   "language": "python",
   "name": "python3"
  },
  "language_info": {
   "codemirror_mode": {
    "name": "ipython",
    "version": 3
   },
   "file_extension": ".py",
   "mimetype": "text/x-python",
   "name": "python",
   "nbconvert_exporter": "python",
   "pygments_lexer": "ipython3",
   "version": "3.8.6"
  }
 },
 "nbformat": 4,
 "nbformat_minor": 5
}
