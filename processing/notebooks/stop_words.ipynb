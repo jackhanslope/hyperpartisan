{
 "cells": [
  {
   "cell_type": "markdown",
   "id": "superior-familiar",
   "metadata": {},
   "source": [
    "# Stop words\n",
    "Take the stop words out of the text and see if it improves the bias feature text (and the other one to a certain extent."
   ]
  },
  {
   "cell_type": "code",
   "execution_count": null,
   "id": "pregnant-bouquet",
   "metadata": {},
   "outputs": [],
   "source": [
    "import os\n",
    "x = os.environ[\"VIRTUAL_ENV\"] + \"/..\"\n",
    "%cd {x}"
   ]
  },
  {
   "cell_type": "code",
   "execution_count": 1,
   "id": "protective-soccer",
   "metadata": {},
   "outputs": [],
   "source": [
    "import pandas as pd\n",
    "import numpy as np\n",
    "import matplotlib.pyplot as plt\n",
    "import pickle\n",
    "\n",
    "import string\n",
    "\n",
    "from nltk.corpus import stopwords\n",
    "from nltk.tokenize import word_tokenize\n",
    "from sklearn.linear_model import LogisticRegression\n",
    "\n",
    "from hyper.bias_scorer import BiasScorer\n",
    "import hyper.eval as evl"
   ]
  },
  {
   "cell_type": "markdown",
   "id": "quick-perth",
   "metadata": {},
   "source": [
    "Load the dataset and convert to lower"
   ]
  },
  {
   "cell_type": "code",
   "execution_count": 2,
   "id": "compliant-miami",
   "metadata": {},
   "outputs": [],
   "source": [
    "data = pd.read_csv(\n",
    "    \"../data/processed.csv\",\n",
    "    sep=\"\\t\",\n",
    "    dtype={\"content\": \"string\", \"label\": bool}\n",
    ")\n",
    "data[\"content\"] = data[\"content\"].str.lower()"
   ]
  },
  {
   "cell_type": "code",
   "execution_count": 3,
   "id": "interstate-activation",
   "metadata": {},
   "outputs": [],
   "source": [
    "X = data[\"content\"]\n",
    "y = data[\"label\"].astype(int)"
   ]
  },
  {
   "cell_type": "code",
   "execution_count": 4,
   "id": "included-requirement",
   "metadata": {},
   "outputs": [],
   "source": [
    "stop_words = stopwords.words(\"english\")\n",
    "stop_punct = set(stop_words) | set(string.punctuation)"
   ]
  },
  {
   "cell_type": "code",
   "execution_count": 5,
   "id": "documented-address",
   "metadata": {},
   "outputs": [],
   "source": [
    "def rm_stop_punt(sentence, rm_list):\n",
    "    return [word for word in word_tokenize(sentence) if not word in stop_punct]"
   ]
  },
  {
   "cell_type": "code",
   "execution_count": 6,
   "id": "meaningful-communication",
   "metadata": {},
   "outputs": [],
   "source": [
    "data[\"trimmed\"] = data[\"content\"].apply(lambda x: rm_stop_punt(x, stop_punct))"
   ]
  },
  {
   "cell_type": "code",
   "execution_count": 7,
   "id": "controlled-forum",
   "metadata": {},
   "outputs": [
    {
     "data": {
      "text/html": [
       "<div>\n",
       "<style scoped>\n",
       "    .dataframe tbody tr th:only-of-type {\n",
       "        vertical-align: middle;\n",
       "    }\n",
       "\n",
       "    .dataframe tbody tr th {\n",
       "        vertical-align: top;\n",
       "    }\n",
       "\n",
       "    .dataframe thead th {\n",
       "        text-align: right;\n",
       "    }\n",
       "</style>\n",
       "<table border=\"1\" class=\"dataframe\">\n",
       "  <thead>\n",
       "    <tr style=\"text-align: right;\">\n",
       "      <th></th>\n",
       "      <th>label</th>\n",
       "      <th>content</th>\n",
       "      <th>trimmed</th>\n",
       "    </tr>\n",
       "  </thead>\n",
       "  <tbody>\n",
       "    <tr>\n",
       "      <th>0</th>\n",
       "      <td>True</td>\n",
       "      <td>kucinich: reclaiming the money power from flic...</td>\n",
       "      <td>[kucinich, reclaiming, money, power, flickr.co...</td>\n",
       "    </tr>\n",
       "    <tr>\n",
       "      <th>1</th>\n",
       "      <td>True</td>\n",
       "      <td>trump just woke up &amp; viciously attacked puerto...</td>\n",
       "      <td>[trump, woke, viciously, attacked, puerto, ric...</td>\n",
       "    </tr>\n",
       "    <tr>\n",
       "      <th>2</th>\n",
       "      <td>True</td>\n",
       "      <td>liberals wailing about gun control, but what a...</td>\n",
       "      <td>[liberals, wailing, gun, control, abortion, ph...</td>\n",
       "    </tr>\n",
       "    <tr>\n",
       "      <th>3</th>\n",
       "      <td>True</td>\n",
       "      <td>laremy tunsil joins nfl players in kneeling du...</td>\n",
       "      <td>[laremy, tunsil, joins, nfl, players, kneeling...</td>\n",
       "    </tr>\n",
       "    <tr>\n",
       "      <th>4</th>\n",
       "      <td>False</td>\n",
       "      <td>it's 1968 all over againalmost a half-century ...</td>\n",
       "      <td>['s, 1968, againalmost, half-century, ago, 196...</td>\n",
       "    </tr>\n",
       "  </tbody>\n",
       "</table>\n",
       "</div>"
      ],
      "text/plain": [
       "   label                                            content  \\\n",
       "0   True  kucinich: reclaiming the money power from flic...   \n",
       "1   True  trump just woke up & viciously attacked puerto...   \n",
       "2   True  liberals wailing about gun control, but what a...   \n",
       "3   True  laremy tunsil joins nfl players in kneeling du...   \n",
       "4  False  it's 1968 all over againalmost a half-century ...   \n",
       "\n",
       "                                             trimmed  \n",
       "0  [kucinich, reclaiming, money, power, flickr.co...  \n",
       "1  [trump, woke, viciously, attacked, puerto, ric...  \n",
       "2  [liberals, wailing, gun, control, abortion, ph...  \n",
       "3  [laremy, tunsil, joins, nfl, players, kneeling...  \n",
       "4  ['s, 1968, againalmost, half-century, ago, 196...  "
      ]
     },
     "execution_count": 7,
     "metadata": {},
     "output_type": "execute_result"
    }
   ],
   "source": [
    "data.head()"
   ]
  },
  {
   "cell_type": "markdown",
   "id": "furnished-efficiency",
   "metadata": {},
   "source": [
    "## Calculate bias scores"
   ]
  },
  {
   "cell_type": "code",
   "execution_count": 8,
   "id": "civil-cliff",
   "metadata": {},
   "outputs": [],
   "source": [
    "word_list = pd.read_csv(\"../data/bias/bias-lexicon.txt\", header=None, names=[\"word\"])"
   ]
  },
  {
   "cell_type": "code",
   "execution_count": 9,
   "id": "interim-chosen",
   "metadata": {},
   "outputs": [],
   "source": [
    "bs = BiasScorer(word_list[\"word\"])"
   ]
  },
  {
   "cell_type": "code",
   "execution_count": 10,
   "id": "incorporated-pantyhose",
   "metadata": {},
   "outputs": [],
   "source": [
    "scores = [bs.score(word_list) for word_list in data[\"trimmed\"]]"
   ]
  },
  {
   "cell_type": "code",
   "execution_count": 11,
   "id": "intended-journey",
   "metadata": {},
   "outputs": [],
   "source": [
    "# add the scores to the dataset\n",
    "data[\"lemma_score\"] = [x for (x, _, _) in scores]\n",
    "data[\"stem_score\"] = [y for (_, y, _) in scores]"
   ]
  },
  {
   "cell_type": "code",
   "execution_count": 12,
   "id": "recovered-platform",
   "metadata": {},
   "outputs": [],
   "source": [
    "model = LogisticRegression(max_iter=300, class_weight=\"balanced\")"
   ]
  },
  {
   "cell_type": "code",
   "execution_count": 13,
   "id": "graphic-boost",
   "metadata": {},
   "outputs": [
    {
     "data": {
      "text/plain": [
       "{'acc': [0.5689922480620154, 0.022252248208383455],\n",
       " 'prec': [0.43167777629386156, 0.02715268736963195],\n",
       " 'rec': [0.5554078014184397, 0.10229205764422614],\n",
       " 'f1': [0.48334290725795814, 0.05684506232083637]}"
      ]
     },
     "execution_count": 13,
     "metadata": {},
     "output_type": "execute_result"
    }
   ],
   "source": [
    "evl.report_algorithm(data[[\"lemma_score\"]], y, model)"
   ]
  },
  {
   "cell_type": "code",
   "execution_count": 14,
   "id": "unexpected-meter",
   "metadata": {},
   "outputs": [
    {
     "data": {
      "text/plain": [
       "{'acc': [0.5581395348837209, 0.029822300870808276],\n",
       " 'prec': [0.4256575620507851, 0.02981869903519063],\n",
       " 'rec': [0.5679964539007093, 0.10095863630793898],\n",
       " 'f1': [0.48328761581098034, 0.05053470879129024]}"
      ]
     },
     "execution_count": 14,
     "metadata": {},
     "output_type": "execute_result"
    }
   ],
   "source": [
    "evl.report_algorithm(data[[\"stem_score\"]], y, model)"
   ]
  },
  {
   "cell_type": "code",
   "execution_count": 15,
   "id": "piano-retirement",
   "metadata": {},
   "outputs": [
    {
     "data": {
      "text/plain": [
       "<matplotlib.collections.PathCollection at 0x7f8d3e071550>"
      ]
     },
     "execution_count": 15,
     "metadata": {},
     "output_type": "execute_result"
    },
    {
     "data": {
      "image/png": "[encoded data removed]",
      "text/plain": [
       "<Figure size 432x288 with 1 Axes>"
      ]
     },
     "metadata": {
      "needs_background": "light"
     },
     "output_type": "display_data"
    }
   ],
   "source": [
    "plt.scatter(data[\"lemma_score\"], data[\"label\"])"
   ]
  },
  {
   "cell_type": "code",
   "execution_count": 16,
   "id": "elementary-firewall",
   "metadata": {},
   "outputs": [
    {
     "data": {
      "text/plain": [
       "<matplotlib.collections.PathCollection at 0x7f8d3e01f490>"
      ]
     },
     "execution_count": 16,
     "metadata": {},
     "output_type": "execute_result"
    },
    {
     "data": {
      "image/png": "[encoded data removed]",
      "text/plain": [
       "<Figure size 432x288 with 1 Axes>"
      ]
     },
     "metadata": {
      "needs_background": "light"
     },
     "output_type": "display_data"
    }
   ],
   "source": [
    "plt.scatter(data[\"stem_score\"], data[\"label\"])"
   ]
  },
  {
   "cell_type": "markdown",
   "id": "worst-claim",
   "metadata": {},
   "source": [
    "## Combining with semantic features"
   ]
  },
  {
   "cell_type": "code",
   "execution_count": 17,
   "id": "turkish-reform",
   "metadata": {},
   "outputs": [],
   "source": [
    "with open(\"../data/transformed/spacy_flair.pickle\", \"rb\") as file:\n",
    "    X_transformed = pickle.load(file)"
   ]
  },
  {
   "cell_type": "code",
   "execution_count": 18,
   "id": "australian-moscow",
   "metadata": {},
   "outputs": [],
   "source": [
    "big_data = pd.concat([data, pd.DataFrame(X_transformed)], axis=1)\n",
    "big_X = big_data.drop([\"label\", \"content\", \"trimmed\"], axis=1)"
   ]
  },
  {
   "cell_type": "code",
   "execution_count": 19,
   "id": "utility-spice",
   "metadata": {},
   "outputs": [
    {
     "data": {
      "text/plain": [
       "{'acc': [0.8031007751937983, 0.03753090988189211],\n",
       " 'prec': [0.7204008398488527, 0.054281538261511136],\n",
       " 'rec': [0.7693262411347519, 0.059111066035563674],\n",
       " 'f1': [0.7426885640272767, 0.04677458063181635]}"
      ]
     },
     "execution_count": 19,
     "metadata": {},
     "output_type": "execute_result"
    }
   ],
   "source": [
    "evl.report_algorithm(big_X, y, model)"
   ]
  },
  {
   "cell_type": "code",
   "execution_count": 20,
   "id": "objective-principal",
   "metadata": {},
   "outputs": [
    {
     "data": {
      "text/plain": [
       "{'acc': [0.8031007751937983, 0.03753090988189211],\n",
       " 'prec': [0.7204008398488527, 0.054281538261511136],\n",
       " 'rec': [0.7693262411347519, 0.059111066035563674],\n",
       " 'f1': [0.7426885640272767, 0.04677458063181635]}"
      ]
     },
     "execution_count": 20,
     "metadata": {},
     "output_type": "execute_result"
    }
   ],
   "source": [
    "evl.report_algorithm(X_transformed, y, model)"
   ]
  },
  {
   "cell_type": "markdown",
   "id": "foreign-customs",
   "metadata": {},
   "source": [
    "It doesn't make a difference"
   ]
  }
 ],
 "metadata": {
  "kernelspec": {
   "display_name": "Python 3",
   "language": "python",
   "name": "python3"
  },
  "language_info": {
   "codemirror_mode": {
    "name": "ipython",
    "version": 3
   },
   "file_extension": ".py",
   "mimetype": "text/x-python",
   "name": "python",
   "nbconvert_exporter": "python",
   "pygments_lexer": "ipython3",
   "version": "3.8.6"
  }
 },
 "nbformat": 4,
 "nbformat_minor": 5
}
