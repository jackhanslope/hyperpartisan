{
 "cells": [
  {
   "cell_type": "code",
   "execution_count": 49,
   "id": "subtle-union",
   "metadata": {},
   "outputs": [],
   "source": [
    "from flair.data import Corpus\n",
    "from flair.datasets import TREC_6, ClassificationCorpus\n",
    "from flair.embeddings import WordEmbeddings, FlairEmbeddings, DocumentRNNEmbeddings\n",
    "from flair.models import TextClassifier\n",
    "from flair.trainers import ModelTrainer"
   ]
  },
  {
   "cell_type": "markdown",
   "id": "encouraging-dubai",
   "metadata": {},
   "source": [
    "load the corpus"
   ]
  },
  {
   "cell_type": "code",
   "execution_count": 50,
   "id": "promotional-orleans",
   "metadata": {
    "scrolled": true
   },
   "outputs": [
    {
     "name": "stdout",
     "output_type": "stream",
     "text": [
      "2021-01-17 21:52:32,219 Reading data from ../data/fast-text\n",
      "2021-01-17 21:52:32,220 Train: ../data/fast-text/train.txt\n",
      "2021-01-17 21:52:32,223 Dev: ../data/fast-text/dev.txt\n",
      "2021-01-17 21:52:32,224 Test: ../data/fast-text/test.txt\n"
     ]
    }
   ],
   "source": [
    "data_folder = \"../data/fast-text/\"\n",
    "corpus: Corpus = ClassificationCorpus(data_folder)"
   ]
  },
  {
   "cell_type": "markdown",
   "id": "black-editing",
   "metadata": {},
   "source": [
    "create the label dictionary"
   ]
  },
  {
   "cell_type": "code",
   "execution_count": 51,
   "id": "applied-introduction",
   "metadata": {},
   "outputs": [
    {
     "name": "stdout",
     "output_type": "stream",
     "text": [
      "2021-01-17 21:52:33,467 Computing label dictionary. Progress:\n"
     ]
    },
    {
     "name": "stderr",
     "output_type": "stream",
     "text": [
      "100%|██████████| 580/580 [00:03<00:00, 173.16it/s]"
     ]
    },
    {
     "name": "stdout",
     "output_type": "stream",
     "text": [
      "2021-01-17 21:52:36,985 [b'True', b'False']\n"
     ]
    },
    {
     "name": "stderr",
     "output_type": "stream",
     "text": [
      "\n"
     ]
    }
   ],
   "source": [
    "label_dict = corpus.make_label_dictionary()"
   ]
  },
  {
   "cell_type": "markdown",
   "id": "registered-trinity",
   "metadata": {},
   "source": [
    "make a list of word embeddings"
   ]
  },
  {
   "cell_type": "code",
   "execution_count": 52,
   "id": "fundamental-patio",
   "metadata": {},
   "outputs": [],
   "source": [
    "word_embeddings = [WordEmbeddings(\"glove\")]"
   ]
  },
  {
   "cell_type": "markdown",
   "id": "desperate-acoustic",
   "metadata": {},
   "source": [
    "init document embeddings by passing list of word embeddings"
   ]
  },
  {
   "cell_type": "code",
   "execution_count": 53,
   "id": "eleven-generator",
   "metadata": {},
   "outputs": [],
   "source": [
    "document_embeddings = DocumentRNNEmbeddings(word_embeddings, hidden_size=256)"
   ]
  },
  {
   "cell_type": "markdown",
   "id": "advised-comparative",
   "metadata": {},
   "source": [
    "create the text classifier"
   ]
  },
  {
   "cell_type": "code",
   "execution_count": 54,
   "id": "registered-accuracy",
   "metadata": {},
   "outputs": [],
   "source": [
    "classifier = TextClassifier(document_embeddings, label_dictionary=label_dict)"
   ]
  },
  {
   "cell_type": "markdown",
   "id": "suffering-study",
   "metadata": {},
   "source": [
    "init the trainer for the tex classifier"
   ]
  },
  {
   "cell_type": "code",
   "execution_count": 55,
   "id": "floppy-effect",
   "metadata": {},
   "outputs": [],
   "source": [
    "trainer = ModelTrainer(classifier, corpus)"
   ]
  },
  {
   "cell_type": "markdown",
   "id": "former-cooper",
   "metadata": {},
   "source": [
    "start the training"
   ]
  },
  {
   "cell_type": "code",
   "execution_count": null,
   "id": "anticipated-disabled",
   "metadata": {},
   "outputs": [],
   "source": [
    "epochs = 100 # number of epochs to run, default would be 100\n",
    "trainer.train(\n",
    "    'resources/taggers/trec',\n",
    "    learning_rate=0.1,\n",
    "    mini_batch_size=32,\n",
    "    anneal_factor=0.5,\n",
    "    patience=5,\n",
    "    max_epochs=epochs\n",
    ")"
   ]
  },
  {
   "cell_type": "markdown",
   "id": "expensive-blues",
   "metadata": {},
   "source": [
    "For reference, this, running on my cpu can manage between 0.1 and 1 sample/sec. Google colab gpu is doing something like 20 to 200"
   ]
  }
 ],
 "metadata": {
  "kernelspec": {
   "display_name": "Python 3",
   "language": "python",
   "name": "python3"
  },
  "language_info": {
   "codemirror_mode": {
    "name": "ipython",
    "version": 3
   },
   "file_extension": ".py",
   "mimetype": "text/x-python",
   "name": "python",
   "nbconvert_exporter": "python",
   "pygments_lexer": "ipython3",
   "version": "3.8.6"
  }
 },
 "nbformat": 4,
 "nbformat_minor": 5
}
