{
 "cells": [
  {
   "cell_type": "markdown",
   "metadata": {},
   "source": [
    "# Flair preprocessing\n",
    "Getting the files into the correct format for flair to use"
   ]
  },
  {
   "cell_type": "code",
   "execution_count": null,
   "metadata": {},
   "outputs": [],
   "source": [
    "import os\n",
    "x = os.environ[\"VIRTUAL_ENV\"] + \"/..\"\n",
    "%cd {x}"
   ]
  },
  {
   "cell_type": "code",
   "execution_count": 1,
   "metadata": {},
   "outputs": [],
   "source": [
    "import pandas as pd\n",
    "from sklearn.model_selection import train_test_split"
   ]
  },
  {
   "cell_type": "code",
   "execution_count": 2,
   "metadata": {},
   "outputs": [],
   "source": [
    "# read in the data\n",
    "data = pd.read_json(\"../data/clean.json\")\n",
    "# concat the title and the content\n",
    "data[\"content\"] = data[\"title\"] + data[\"content\"]\n",
    "# strip out all new line characters\n",
    "data[\"content\"] = data[\"content\"].apply(lambda x: x.replace(\"\\n\", \" \"))\n",
    "# take only the label and (title and) content\n",
    "data = data[[\"label\", \"content\"]]"
   ]
  },
  {
   "cell_type": "markdown",
   "metadata": {},
   "source": [
    "Split the data into trues and falses"
   ]
  },
  {
   "cell_type": "code",
   "execution_count": 3,
   "metadata": {},
   "outputs": [],
   "source": [
    "trues = data[data[\"label\"]]\n",
    "falses = data[data[\"label\"] == False]"
   ]
  },
  {
   "cell_type": "markdown",
   "metadata": {},
   "source": [
    "Split the data into train, test and dev in a 80/10/80 split. Ensure that, in each set, there are an equal number of trues and falses."
   ]
  },
  {
   "cell_type": "code",
   "execution_count": 4,
   "metadata": {},
   "outputs": [],
   "source": [
    "t_train_dev, t_test = train_test_split(trues, test_size=0.1, random_state=13)\n",
    "f_train_dev, f_test = train_test_split(falses, test_size=0.1, random_state=13)\n",
    "t_train, t_dev = train_test_split(t_train_dev, test_size=1/9, random_state=13)\n",
    "f_train, f_dev = train_test_split(f_train_dev, test_size=1/9, random_state=13)\n",
    "train = pd.concat([t_train, f_train])\n",
    "test = pd.concat([t_test, f_test])\n",
    "dev = pd.concat([t_dev, f_dev])"
   ]
  },
  {
   "cell_type": "markdown",
   "metadata": {},
   "source": [
    "Convert the labels into FastText format"
   ]
  },
  {
   "cell_type": "code",
   "execution_count": 5,
   "metadata": {},
   "outputs": [],
   "source": [
    "for dataset in [train, test, dev]:\n",
    "    dataset[\"label\"] = \"__label__\" + dataset[\"label\"].astype(str)"
   ]
  },
  {
   "cell_type": "markdown",
   "metadata": {},
   "source": [
    "Export"
   ]
  },
  {
   "cell_type": "code",
   "execution_count": 6,
   "metadata": {},
   "outputs": [],
   "source": [
    "train.to_csv(\"../data/fast-text/train.txt\", sep=\" \", index=False, header=False)\n",
    "test.to_csv(\"../data/fast-text/test.txt\", sep=\" \", index=False, header=False)\n",
    "dev.to_csv(\"../data/fast-text/dev.txt\", sep=\" \", index=False, header=False)"
   ]
  }
 ],
 "metadata": {
  "kernelspec": {
   "display_name": "Python 3",
   "language": "python",
   "name": "python3"
  },
  "language_info": {
   "codemirror_mode": {
    "name": "ipython",
    "version": 3
   },
   "file_extension": ".py",
   "mimetype": "text/x-python",
   "name": "python",
   "nbconvert_exporter": "python",
   "pygments_lexer": "ipython3",
   "version": "3.8.6"
  }
 },
 "nbformat": 4,
 "nbformat_minor": 4
}
